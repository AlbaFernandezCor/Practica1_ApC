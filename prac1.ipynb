{
 "cells": [
  {
   "cell_type": "markdown",
   "metadata": {},
   "source": [
    "# ANÀLISI D'UN DATASET"
   ]
  },
  {
   "cell_type": "markdown",
   "metadata": {},
   "source": [
    "1597487 | Manuel Arnau Fernández\n",
    "\n",
    "1600123 | Alba Fernández Coronado\n",
    "\n",
    "1605547 | Marina Palomar González"
   ]
  },
  {
   "cell_type": "markdown",
   "metadata": {},
   "source": [
    "## Introducció"
   ]
  },
  {
   "cell_type": "markdown",
   "metadata": {},
   "source": [
    "El tractament de dades avui en dia és una eina fonamental per prendre decisions precises de manera automàtica. Tot i així, com les decissions les pren una màquina seguint uns patrons marcats per un aprenentatge previ, es poden produir alguns errors.\n",
    "\n",
    "Aquest projecte tracta d'analitzar i explorar un conjunt de dades de costos mèdics en assegurances de salud d'Estats Units per trobar respostes a preguntes a través de probes d'hipòtesis estadístiques."
   ]
  },
  {
   "cell_type": "markdown",
   "metadata": {},
   "source": [
    "## Descripció de les dades"
   ]
  },
  {
   "cell_type": "code",
   "execution_count": 5,
   "metadata": {},
   "outputs": [],
   "source": [
    "# Carregant les llibreries necessàries\n",
    "import pandas as pd\n",
    "import matplotlib.pyplot as plt\n",
    "import numpy as np\n",
    "import seaborn as sns\n",
    "import warnings"
   ]
  },
  {
   "cell_type": "markdown",
   "metadata": {},
   "source": [
    "Per tal de realitzar l'estudi sobre els costos mèdics en una assegurança concreta, s'ha fet us d'un conjunt da dades generades "
   ]
  },
  {
   "cell_type": "code",
   "execution_count": 2,
   "metadata": {},
   "outputs": [
    {
     "name": "stdout",
     "output_type": "stream",
     "text": [
      "Mida de les dades: (1338, 7)\n"
     ]
    },
    {
     "data": {
      "text/html": [
       "<div>\n",
       "<style scoped>\n",
       "    .dataframe tbody tr th:only-of-type {\n",
       "        vertical-align: middle;\n",
       "    }\n",
       "\n",
       "    .dataframe tbody tr th {\n",
       "        vertical-align: top;\n",
       "    }\n",
       "\n",
       "    .dataframe thead th {\n",
       "        text-align: right;\n",
       "    }\n",
       "</style>\n",
       "<table border=\"1\" class=\"dataframe\">\n",
       "  <thead>\n",
       "    <tr style=\"text-align: right;\">\n",
       "      <th></th>\n",
       "      <th>age</th>\n",
       "      <th>sex</th>\n",
       "      <th>bmi</th>\n",
       "      <th>children</th>\n",
       "      <th>smoker</th>\n",
       "      <th>region</th>\n",
       "      <th>charges</th>\n",
       "    </tr>\n",
       "  </thead>\n",
       "  <tbody>\n",
       "    <tr>\n",
       "      <th>0</th>\n",
       "      <td>19</td>\n",
       "      <td>female</td>\n",
       "      <td>27.900</td>\n",
       "      <td>0</td>\n",
       "      <td>yes</td>\n",
       "      <td>southwest</td>\n",
       "      <td>16884.92400</td>\n",
       "    </tr>\n",
       "    <tr>\n",
       "      <th>1</th>\n",
       "      <td>18</td>\n",
       "      <td>male</td>\n",
       "      <td>33.770</td>\n",
       "      <td>1</td>\n",
       "      <td>no</td>\n",
       "      <td>southeast</td>\n",
       "      <td>1725.55230</td>\n",
       "    </tr>\n",
       "    <tr>\n",
       "      <th>2</th>\n",
       "      <td>28</td>\n",
       "      <td>male</td>\n",
       "      <td>33.000</td>\n",
       "      <td>3</td>\n",
       "      <td>no</td>\n",
       "      <td>southeast</td>\n",
       "      <td>4449.46200</td>\n",
       "    </tr>\n",
       "    <tr>\n",
       "      <th>3</th>\n",
       "      <td>33</td>\n",
       "      <td>male</td>\n",
       "      <td>22.705</td>\n",
       "      <td>0</td>\n",
       "      <td>no</td>\n",
       "      <td>northwest</td>\n",
       "      <td>21984.47061</td>\n",
       "    </tr>\n",
       "    <tr>\n",
       "      <th>4</th>\n",
       "      <td>32</td>\n",
       "      <td>male</td>\n",
       "      <td>28.880</td>\n",
       "      <td>0</td>\n",
       "      <td>no</td>\n",
       "      <td>northwest</td>\n",
       "      <td>3866.85520</td>\n",
       "    </tr>\n",
       "  </tbody>\n",
       "</table>\n",
       "</div>"
      ],
      "text/plain": [
       "   age     sex     bmi  children smoker     region      charges\n",
       "0   19  female  27.900         0    yes  southwest  16884.92400\n",
       "1   18    male  33.770         1     no  southeast   1725.55230\n",
       "2   28    male  33.000         3     no  southeast   4449.46200\n",
       "3   33    male  22.705         0     no  northwest  21984.47061\n",
       "4   32    male  28.880         0     no  northwest   3866.85520"
      ]
     },
     "execution_count": 2,
     "metadata": {},
     "output_type": "execute_result"
    }
   ],
   "source": [
    "# Carregant el conjunt de dades\n",
    "dataset = pd.read_csv(r'.\\insurance.csv')\n",
    "print(f'Mida de les dades: {dataset.shape}')\n",
    "dataset.head()"
   ]
  },
  {
   "cell_type": "code",
   "execution_count": 3,
   "metadata": {},
   "outputs": [
    {
     "name": "stdout",
     "output_type": "stream",
     "text": [
      "<class 'pandas.core.frame.DataFrame'>\n",
      "RangeIndex: 1338 entries, 0 to 1337\n",
      "Data columns (total 7 columns):\n",
      " #   Column    Non-Null Count  Dtype  \n",
      "---  ------    --------------  -----  \n",
      " 0   age       1338 non-null   int64  \n",
      " 1   sex       1338 non-null   object \n",
      " 2   bmi       1338 non-null   float64\n",
      " 3   children  1338 non-null   int64  \n",
      " 4   smoker    1338 non-null   object \n",
      " 5   region    1338 non-null   object \n",
      " 6   charges   1338 non-null   float64\n",
      "dtypes: float64(2), int64(2), object(3)\n",
      "memory usage: 73.3+ KB\n"
     ]
    }
   ],
   "source": [
    "# Entenent els tipus de variables de cada atribut\n",
    "dataset.info()"
   ]
  },
  {
   "cell_type": "code",
   "execution_count": 4,
   "metadata": {},
   "outputs": [
    {
     "data": {
      "text/html": [
       "<div>\n",
       "<style scoped>\n",
       "    .dataframe tbody tr th:only-of-type {\n",
       "        vertical-align: middle;\n",
       "    }\n",
       "\n",
       "    .dataframe tbody tr th {\n",
       "        vertical-align: top;\n",
       "    }\n",
       "\n",
       "    .dataframe thead th {\n",
       "        text-align: right;\n",
       "    }\n",
       "</style>\n",
       "<table border=\"1\" class=\"dataframe\">\n",
       "  <thead>\n",
       "    <tr style=\"text-align: right;\">\n",
       "      <th></th>\n",
       "      <th>age</th>\n",
       "      <th>sex</th>\n",
       "      <th>bmi</th>\n",
       "      <th>children</th>\n",
       "      <th>smoker</th>\n",
       "      <th>region</th>\n",
       "      <th>charges</th>\n",
       "    </tr>\n",
       "  </thead>\n",
       "  <tbody>\n",
       "    <tr>\n",
       "      <th>0</th>\n",
       "      <td>19</td>\n",
       "      <td>1</td>\n",
       "      <td>27.900</td>\n",
       "      <td>0</td>\n",
       "      <td>1</td>\n",
       "      <td>1</td>\n",
       "      <td>16884.92400</td>\n",
       "    </tr>\n",
       "    <tr>\n",
       "      <th>1</th>\n",
       "      <td>18</td>\n",
       "      <td>0</td>\n",
       "      <td>33.770</td>\n",
       "      <td>1</td>\n",
       "      <td>0</td>\n",
       "      <td>2</td>\n",
       "      <td>1725.55230</td>\n",
       "    </tr>\n",
       "    <tr>\n",
       "      <th>2</th>\n",
       "      <td>28</td>\n",
       "      <td>0</td>\n",
       "      <td>33.000</td>\n",
       "      <td>3</td>\n",
       "      <td>0</td>\n",
       "      <td>2</td>\n",
       "      <td>4449.46200</td>\n",
       "    </tr>\n",
       "    <tr>\n",
       "      <th>3</th>\n",
       "      <td>33</td>\n",
       "      <td>0</td>\n",
       "      <td>22.705</td>\n",
       "      <td>0</td>\n",
       "      <td>0</td>\n",
       "      <td>3</td>\n",
       "      <td>21984.47061</td>\n",
       "    </tr>\n",
       "    <tr>\n",
       "      <th>4</th>\n",
       "      <td>32</td>\n",
       "      <td>0</td>\n",
       "      <td>28.880</td>\n",
       "      <td>0</td>\n",
       "      <td>0</td>\n",
       "      <td>3</td>\n",
       "      <td>3866.85520</td>\n",
       "    </tr>\n",
       "  </tbody>\n",
       "</table>\n",
       "</div>"
      ],
      "text/plain": [
       "   age sex     bmi  children smoker region      charges\n",
       "0   19   1  27.900         0      1      1  16884.92400\n",
       "1   18   0  33.770         1      0      2   1725.55230\n",
       "2   28   0  33.000         3      0      2   4449.46200\n",
       "3   33   0  22.705         0      0      3  21984.47061\n",
       "4   32   0  28.880         0      0      3   3866.85520"
      ]
     },
     "execution_count": 4,
     "metadata": {},
     "output_type": "execute_result"
    }
   ],
   "source": [
    "# Convertint cadenes a dades numèriques per poder més endavant poder treballar amb elles.\n",
    "dataset['sex'].replace(to_replace='female',value='1',inplace=True)\n",
    "dataset['sex'].replace(to_replace='male',value='0',inplace=True)\n",
    "dataset['smoker'].replace(to_replace='yes',value='1',inplace=True)\n",
    "dataset['smoker'].replace(to_replace='no',value='0',inplace=True)\n",
    "dataset['region'].replace(to_replace='southwest',value='1',inplace=True)\n",
    "dataset['region'].replace(to_replace='southeast',value='2',inplace=True)\n",
    "dataset['region'].replace(to_replace='northwest',value='3',inplace=True)\n",
    "dataset['region'].replace(to_replace='northeast',value='4',inplace=True)\n",
    "dataset.head()"
   ]
  },
  {
   "cell_type": "markdown",
   "metadata": {},
   "source": [
    "### INFORMACIÓ DELS ATRIBUTS"
   ]
  },
  {
   "cell_type": "markdown",
   "metadata": {},
   "source": [
    "* ***age***: Variable de tipus int, ens informa de l'edat de cada usuari de l'assegurança\n",
    "* ***sex***: Variable tipus binària que indica el sexe de l'usuari. (1 = femenino / 0 = masculino)\n",
    "* ***bmi***: Variable de tipus int, proporciona informació de l'índex de massa corporal, ja que es una relació entre l'altura i el pes i proporciona una millor comprensió del cos. (idealment té valors entre 18.5 i 24.9)\n",
    "* ***children***: Variable de tipus int, és el número de fills coberts per la seguretat social.\n",
    "* ***smoker***: Variable de tipus binària, indica si l'usuari és fumador. (1 = si / 0 = no)\n",
    "* ***region***: Variable de tipus int, pren un valor entre 1 i 4 segons l'àrea residencial del beneficiari (1 = *southwest* / 2 = *southeast* / 3 = *northwest* / 4 = *northeast*)\n",
    "* ***charges***: Variable de tipus double, són els costos mèdics individuals facturats per l'assegurança per usuari."
   ]
  },
  {
   "cell_type": "markdown",
   "metadata": {},
   "source": [
    "Un cop analitzats els atributs, es decideix quin atribut convertir en varibale resposta. En aquest cas, s'aproximarà el valor de la variable *charges* "
   ]
  },
  {
   "cell_type": "code",
   "execution_count": 6,
   "metadata": {},
   "outputs": [],
   "source": [
    "X = dataset.drop('charges', axis = 1)\n",
    "Y = dataset['charges']"
   ]
  },
  {
   "cell_type": "markdown",
   "metadata": {},
   "source": [
    "### INFORMACIÓ DEL DATASET"
   ]
  },
  {
   "cell_type": "code",
   "execution_count": 7,
   "metadata": {},
   "outputs": [
    {
     "data": {
      "text/html": [
       "<div>\n",
       "<style scoped>\n",
       "    .dataframe tbody tr th:only-of-type {\n",
       "        vertical-align: middle;\n",
       "    }\n",
       "\n",
       "    .dataframe tbody tr th {\n",
       "        vertical-align: top;\n",
       "    }\n",
       "\n",
       "    .dataframe thead th {\n",
       "        text-align: right;\n",
       "    }\n",
       "</style>\n",
       "<table border=\"1\" class=\"dataframe\">\n",
       "  <thead>\n",
       "    <tr style=\"text-align: right;\">\n",
       "      <th></th>\n",
       "      <th>age</th>\n",
       "      <th>bmi</th>\n",
       "      <th>children</th>\n",
       "      <th>charges</th>\n",
       "    </tr>\n",
       "  </thead>\n",
       "  <tbody>\n",
       "    <tr>\n",
       "      <th>count</th>\n",
       "      <td>1338.000000</td>\n",
       "      <td>1338.000000</td>\n",
       "      <td>1338.000000</td>\n",
       "      <td>1338.000000</td>\n",
       "    </tr>\n",
       "    <tr>\n",
       "      <th>mean</th>\n",
       "      <td>39.207025</td>\n",
       "      <td>30.663397</td>\n",
       "      <td>1.094918</td>\n",
       "      <td>13270.422265</td>\n",
       "    </tr>\n",
       "    <tr>\n",
       "      <th>std</th>\n",
       "      <td>14.049960</td>\n",
       "      <td>6.098187</td>\n",
       "      <td>1.205493</td>\n",
       "      <td>12110.011237</td>\n",
       "    </tr>\n",
       "    <tr>\n",
       "      <th>min</th>\n",
       "      <td>18.000000</td>\n",
       "      <td>15.960000</td>\n",
       "      <td>0.000000</td>\n",
       "      <td>1121.873900</td>\n",
       "    </tr>\n",
       "    <tr>\n",
       "      <th>25%</th>\n",
       "      <td>27.000000</td>\n",
       "      <td>26.296250</td>\n",
       "      <td>0.000000</td>\n",
       "      <td>4740.287150</td>\n",
       "    </tr>\n",
       "    <tr>\n",
       "      <th>50%</th>\n",
       "      <td>39.000000</td>\n",
       "      <td>30.400000</td>\n",
       "      <td>1.000000</td>\n",
       "      <td>9382.033000</td>\n",
       "    </tr>\n",
       "    <tr>\n",
       "      <th>75%</th>\n",
       "      <td>51.000000</td>\n",
       "      <td>34.693750</td>\n",
       "      <td>2.000000</td>\n",
       "      <td>16639.912515</td>\n",
       "    </tr>\n",
       "    <tr>\n",
       "      <th>max</th>\n",
       "      <td>64.000000</td>\n",
       "      <td>53.130000</td>\n",
       "      <td>5.000000</td>\n",
       "      <td>63770.428010</td>\n",
       "    </tr>\n",
       "  </tbody>\n",
       "</table>\n",
       "</div>"
      ],
      "text/plain": [
       "               age          bmi     children       charges\n",
       "count  1338.000000  1338.000000  1338.000000   1338.000000\n",
       "mean     39.207025    30.663397     1.094918  13270.422265\n",
       "std      14.049960     6.098187     1.205493  12110.011237\n",
       "min      18.000000    15.960000     0.000000   1121.873900\n",
       "25%      27.000000    26.296250     0.000000   4740.287150\n",
       "50%      39.000000    30.400000     1.000000   9382.033000\n",
       "75%      51.000000    34.693750     2.000000  16639.912515\n",
       "max      64.000000    53.130000     5.000000  63770.428010"
      ]
     },
     "execution_count": 7,
     "metadata": {},
     "output_type": "execute_result"
    }
   ],
   "source": [
    "dataset.describe()"
   ]
  },
  {
   "cell_type": "code",
   "execution_count": 8,
   "metadata": {},
   "outputs": [
    {
     "data": {
      "text/plain": [
       "<seaborn.axisgrid.FacetGrid at 0x2357565f130>"
      ]
     },
     "execution_count": 8,
     "metadata": {},
     "output_type": "execute_result"
    },
    {
     "data": {
      "image/png": "[encoded data removed]",
      "text/plain": [
       "<Figure size 360x360 with 1 Axes>"
      ]
     },
     "metadata": {
      "needs_background": "light"
     },
     "output_type": "display_data"
    }
   ],
   "source": [
    "#DISTRIBUCIÓ DE LA VARIABLE OBJECTIU: EXPONENCIAL\n",
    "sns.displot(dataset, x=\"charges\")"
   ]
  },
  {
   "cell_type": "code",
   "execution_count": null,
   "metadata": {},
   "outputs": [],
   "source": [
    "#ARA MIREM ELS OUTLIERS AMB UN BOXPLOT de l'atribut objectiu\n",
    "\n",
    "\n",
    "def box_plot(x = 'bmi'):\n",
    "    def add_values(bp, ax):\n",
    "        \"\"\" This actually adds the numbers to the various points of the boxplots\"\"\"\n",
    "        for element in ['whiskers', 'medians', 'caps']:\n",
    "            for line in bp[element]:\n",
    "                # Get the position of the element. y is the label you want\n",
    "                (x_l, y),(x_r, _) = line.get_xydata()\n",
    "                # Make sure datapoints exist \n",
    "                # (I've been working with intervals, should not be problem for this case)\n",
    "                if not np.isnan(y): \n",
    "                    x_line_center = x_l + (x_r - x_l)/2\n",
    "                    y_line_center = y  # Since it's a line and it's horisontal\n",
    "                    # overlay the value:  on the line, from center to right\n",
    "                    ax.text(x_line_center, y_line_center, # Position\n",
    "                            '%.2f' % y, # Value (3f = 3 decimal float)\n",
    "                            verticalalignment='center', # Centered vertically with line \n",
    "                            fontsize=12, backgroundcolor=\"white\")\n",
    "\n",
    "    fig, axes = plt.subplots(1, figsize=(4, 8))\n",
    "\n",
    "    red_diamond = dict(markerfacecolor='r', marker='D')\n",
    "\n",
    "    bp_dict = dataset.boxplot(column = x, \n",
    "                             grid=True, \n",
    "                             figsize=(4, 8), \n",
    "                             ax=axes, \n",
    "                             vert = True, \n",
    "                             notch=False, \n",
    "                             widths = 0.7, \n",
    "                             showmeans = True, \n",
    "                             whis = 1.5,\n",
    "                             flierprops = red_diamond,\n",
    "                             boxprops= dict(linewidth=3.0, color='black'),\n",
    "                             whiskerprops=dict(linewidth=3.0, color='black'),\n",
    "                             return_type = 'dict')\n",
    "\n",
    "    add_values(bp_dict, axes)\n",
    "\n",
    "    plt.title(f'{x.capitalize()} Boxplot', fontsize=16)\n",
    "    plt.ylabel(f'{x.capitalize()}', fontsize=14)\n",
    "    plt.show()\n",
    "    \n",
    "    skew = dataset[x].skew()\n",
    "    Q1 = dataset[x].quantile(0.25)\n",
    "    Q3 = dataset[x].quantile(0.75)\n",
    "    IQR = Q3 - Q1\n",
    "    total_outlier_num = ((dataset[x] < (Q1 - 1.5 * IQR)) | (dataset[x] > (Q3 + 1.5 * IQR))).sum()\n",
    "    print(f'Mean {x.capitalize()} = {dataset[x].mean()}')\n",
    "    print(f'Median {x.capitalize()} = {dataset[x].median()}')\n",
    "    print(f'Skewness of {x}: {skew}.')\n",
    "    print(f'Total number of outliers in {x} distribution: {total_outlier_num}.')"
   ]
  },
  {
   "cell_type": "code",
   "execution_count": null,
   "metadata": {},
   "outputs": [],
   "source": [
    "box_plot('charges')"
   ]
  },
  {
   "cell_type": "code",
   "execution_count": null,
   "metadata": {},
   "outputs": [],
   "source": [
    "#ANALITZEM UNA MICA ELS OUTLIERS PER ENTENDRE COM SÓN i mirar si poden ser un error d'escriptura o són acceptables\n",
    "# Who is paying the highest charges?\n",
    "dataset[dataset['charges'] == dataset['charges'].max()]"
   ]
  },
  {
   "cell_type": "code",
   "execution_count": null,
   "metadata": {},
   "outputs": [],
   "source": [
    "#analitzem altres outliers, com per ex els del bmi\n",
    "box_plot('bmi')\n",
    "dataset[dataset['bmi'] == dataset['bmi'].max()]"
   ]
  },
  {
   "cell_type": "code",
   "execution_count": null,
   "metadata": {},
   "outputs": [],
   "source": [
    "#ARA MIREM LA DISTRIBUCIÓ D'ALGUNES VARIABLES\n",
    "def distr(data, x):\n",
    "    x_min = data[x].min()\n",
    "    x_max = data[x].max()\n",
    "    Q1 = data[x].quantile(0.25)\n",
    "    Q2 = data[x].quantile(0.50)\n",
    "    Q3 = data[x].quantile(0.75)\n",
    "    Q4 = np.var(data[x])\n",
    "    print(f'5 Point Summary of {x.capitalize()} Attribute:\\n'\n",
    "          f'{x.capitalize()}(min) : {x_min}\\n'\n",
    "          f'Q1                    : {Q1}\\n'\n",
    "          f'Q2(Median)            : {Q2}\\n'\n",
    "          f'Q3                    : {Q3}\\n'\n",
    "          f'Q4                    : {Q4}\\n'\n",
    "          f'{x.capitalize()}(max) : {x_max}')\n",
    "\n",
    "    fig = plt.figure(figsize=(16, 10))\n",
    "    \n",
    "    plt.subplot(221)\n",
    "    ax1 = sns.distplot(data[x], color = 'r')\n",
    "    plt.title(f'{x.capitalize()} Density Distribution')\n",
    "    \n",
    "    plt.show()"
   ]
  },
  {
   "cell_type": "code",
   "execution_count": null,
   "metadata": {},
   "outputs": [],
   "source": [
    "#MIREM LA DISTRIBUCIO DE LA VARIABLE bmi i de la edat\n",
    "#posar titols als plots\n",
    "distr(dataset[dataset[\"sex\"] == '1'], 'bmi') #1 = dones\n",
    "distr(dataset[dataset[\"sex\"] == '0'], 'bmi') #0 = homes\n",
    "distr(dataset[dataset[\"sex\"] == '1'], 'age') #1 = dones\n",
    "distr(dataset[dataset[\"sex\"] == '0'], 'age') #0 = homes"
   ]
  },
  {
   "cell_type": "code",
   "execution_count": null,
   "metadata": {},
   "outputs": [],
   "source": []
  },
  {
   "cell_type": "code",
   "execution_count": null,
   "metadata": {},
   "outputs": [],
   "source": [
    "#NORMALITZEM LA COLUMNA DE DADES DE LA VARIABLE OBJECTIU MITJANÇANT LOGARITMES\n",
    "dataset['charges_log'] = np.log(dataset['charges'])\n",
    "dataset['charges'] =( dataset['charges_log'] - np.mean(dataset['charges_log'])) / np.var(dataset['charges_log'])\n",
    "sns.displot(dataset, x = \"charges\")"
   ]
  },
  {
   "cell_type": "code",
   "execution_count": null,
   "metadata": {},
   "outputs": [],
   "source": [
    "#A partir d'aqui s'ha de mirar si les coses serveixen o no i organitzar"
   ]
  },
  {
   "cell_type": "code",
   "execution_count": null,
   "metadata": {},
   "outputs": [],
   "source": [
    "# Gender column\n",
    "ax = plt.axes()\n",
    "ax.set(title='Gender distribution',\n",
    "       xlabel='Gender',\n",
    "       ylabel='Gender counts',\n",
    "       )\n",
    "sns.countplot(x='sex', data=dataset)\n",
    "plt.show()\n",
    "dataset['sex'].value_counts()"
   ]
  },
  {
   "cell_type": "code",
   "execution_count": null,
   "metadata": {},
   "outputs": [],
   "source": [
    "# Region column\n",
    "ax = plt.axes()\n",
    "ax.set(title='Region distribution',\n",
    "       xlabel='Region',\n",
    "       ylabel='Region counts',\n",
    "       )\n",
    "sns.countplot(x='region', data=dataset)\n",
    "plt.show()\n",
    "dataset['region'].value_counts()"
   ]
  },
  {
   "cell_type": "code",
   "execution_count": null,
   "metadata": {},
   "outputs": [],
   "source": [
    "# Children column\n",
    "ax = plt.axes()\n",
    "ax.set(title='Children distribution',\n",
    "       xlabel='Children',\n",
    "       ylabel='Children counts',\n",
    "       )\n",
    "sns.countplot(x='children', data=dataset)\n",
    "plt.show()\n",
    "dataset['children'].value_counts()"
   ]
  },
  {
   "cell_type": "code",
   "execution_count": null,
   "metadata": {},
   "outputs": [],
   "source": [
    "# Smoker column\n",
    "ax = plt.axes()\n",
    "ax.set(title='Smoker distribution',\n",
    "       xlabel='Smoker',\n",
    "       ylabel='Smoker counts',\n",
    "       )\n",
    "sns.countplot(x='smoker', data=dataset)\n",
    "plt.show()\n",
    "\n",
    "# Number of smoker \n",
    "dataset['smoker'].value_counts()"
   ]
  },
  {
   "cell_type": "code",
   "execution_count": null,
   "metadata": {},
   "outputs": [],
   "source": []
  },
  {
   "cell_type": "code",
   "execution_count": null,
   "metadata": {},
   "outputs": [],
   "source": [
    "# Mirem la correlació entre els atributs d'entrada per entendre millor les dades\n",
    "correlacio = X.corr()\n",
    "\n",
    "plt.figure()\n",
    "\n",
    "ax = sns.heatmap(correlacio, annot=True, linewidths=.5)"
   ]
  },
  {
   "cell_type": "code",
   "execution_count": null,
   "metadata": {},
   "outputs": [],
   "source": [
    "#APARTAT B"
   ]
  },
  {
   "cell_type": "code",
   "execution_count": null,
   "metadata": {},
   "outputs": [],
   "source": []
  }
 ],
 "metadata": {
  "kernelspec": {
   "display_name": "Python 3",
   "language": "python",
   "name": "python3"
  },
  "language_info": {
   "codemirror_mode": {
    "name": "ipython",
    "version": 3
   },
   "file_extension": ".py",
   "mimetype": "text/x-python",
   "name": "python",
   "nbconvert_exporter": "python",
   "pygments_lexer": "ipython3",
   "version": "3.8.3"
  }
 },
 "nbformat": 4,
 "nbformat_minor": 4
}
